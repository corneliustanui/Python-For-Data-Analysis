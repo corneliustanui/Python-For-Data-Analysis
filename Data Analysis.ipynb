{
 "cells": [
  {
   "cell_type": "markdown",
   "metadata": {},
   "source": [
    "# Statistical Analyses"
   ]
  },
  {
   "cell_type": "code",
   "execution_count": 7,
   "metadata": {},
   "outputs": [],
   "source": [
    "#Import Python Libraries\n",
    "import numpy as np \n",
    "import scipy as sp\n",
    "import pandas as pd\n",
    "import matplotlib as mpl\n",
    "import seaborn as sns"
   ]
  },
  {
   "cell_type": "markdown",
   "metadata": {},
   "source": [
    "1) Importing data"
   ]
  },
  {
   "cell_type": "code",
   "execution_count": 8,
   "metadata": {},
   "outputs": [],
   "source": [
    "# Setting working directory\n",
    "\n",
    "#Data = pd.read_excel('D:\\Tutorials\\Python\\Data\\STIData.xls',sheet_name='Sheet1', index_col=None, na_values=['NA'])\n",
    "#Data = pd.read_stata('D:\\Tutorials\\Python\\Data\\STIData.dta')\n",
    "Data = pd.read_csv('D:\\Tutorials\\Python\\Data\\STIData.csv', parse_dates=True)\n",
    "\n",
    "#Data = pd.read_sas('myfile.sas7bdat')\n",
    "#Data = pd.read_hdf('myfile.h5','df')"
   ]
  },
  {
   "cell_type": "markdown",
   "metadata": {},
   "source": [
    " 2) Exploring data"
   ]
  },
  {
   "cell_type": "code",
   "execution_count": 9,
   "metadata": {},
   "outputs": [
    {
     "data": {
      "text/html": [
       "<div>\n",
       "<style scoped>\n",
       "    .dataframe tbody tr th:only-of-type {\n",
       "        vertical-align: middle;\n",
       "    }\n",
       "\n",
       "    .dataframe tbody tr th {\n",
       "        vertical-align: top;\n",
       "    }\n",
       "\n",
       "    .dataframe thead th {\n",
       "        text-align: right;\n",
       "    }\n",
       "</style>\n",
       "<table border=\"1\" class=\"dataframe\">\n",
       "  <thead>\n",
       "    <tr style=\"text-align: right;\">\n",
       "      <th></th>\n",
       "      <th>IdNumber</th>\n",
       "      <th>CaseStatus</th>\n",
       "      <th>Date</th>\n",
       "      <th>A1Age</th>\n",
       "      <th>A2Occupation</th>\n",
       "      <th>A3Church</th>\n",
       "      <th>A4LevelOfEducation</th>\n",
       "      <th>A5MaritalStatus</th>\n",
       "      <th>Weight</th>\n",
       "      <th>Height</th>\n",
       "      <th>...</th>\n",
       "      <th>Unemployed</th>\n",
       "      <th>Education</th>\n",
       "      <th>AlcoholUse</th>\n",
       "      <th>SexPartner1year</th>\n",
       "      <th>SexPartner3month</th>\n",
       "      <th>LastPartnerSpouse</th>\n",
       "      <th>Belong</th>\n",
       "      <th>ReceiveHelp</th>\n",
       "      <th>SexPartnerLife3</th>\n",
       "      <th>Sex.1</th>\n",
       "    </tr>\n",
       "  </thead>\n",
       "  <tbody>\n",
       "    <tr>\n",
       "      <th>0</th>\n",
       "      <td>32</td>\n",
       "      <td>2</td>\n",
       "      <td>03-Dec-09</td>\n",
       "      <td>23</td>\n",
       "      <td>1 unemployed</td>\n",
       "      <td>5 pentecostal</td>\n",
       "      <td>3 secondary</td>\n",
       "      <td>2 married</td>\n",
       "      <td>61.0</td>\n",
       "      <td>182.0</td>\n",
       "      <td>...</td>\n",
       "      <td>1.0</td>\n",
       "      <td>2</td>\n",
       "      <td>2.0</td>\n",
       "      <td>0</td>\n",
       "      <td>0</td>\n",
       "      <td>1</td>\n",
       "      <td>1</td>\n",
       "      <td>1</td>\n",
       "      <td>0</td>\n",
       "      <td>Female</td>\n",
       "    </tr>\n",
       "    <tr>\n",
       "      <th>1</th>\n",
       "      <td>33</td>\n",
       "      <td>1</td>\n",
       "      <td>03-Dec-09</td>\n",
       "      <td>24</td>\n",
       "      <td>4 student</td>\n",
       "      <td>2 apostolic</td>\n",
       "      <td>3 secondary</td>\n",
       "      <td>2 married</td>\n",
       "      <td>53.0</td>\n",
       "      <td>166.0</td>\n",
       "      <td>...</td>\n",
       "      <td>NaN</td>\n",
       "      <td>2</td>\n",
       "      <td>1.0</td>\n",
       "      <td>0</td>\n",
       "      <td>0</td>\n",
       "      <td>1</td>\n",
       "      <td>0</td>\n",
       "      <td>0</td>\n",
       "      <td>0</td>\n",
       "      <td>Female</td>\n",
       "    </tr>\n",
       "    <tr>\n",
       "      <th>2</th>\n",
       "      <td>34</td>\n",
       "      <td>2</td>\n",
       "      <td>03-Dec-09</td>\n",
       "      <td>24</td>\n",
       "      <td>1 unemployed</td>\n",
       "      <td>2 apostolic</td>\n",
       "      <td>3 secondary</td>\n",
       "      <td>2 married</td>\n",
       "      <td>91.4</td>\n",
       "      <td>166.0</td>\n",
       "      <td>...</td>\n",
       "      <td>1.0</td>\n",
       "      <td>2</td>\n",
       "      <td>1.0</td>\n",
       "      <td>0</td>\n",
       "      <td>0</td>\n",
       "      <td>1</td>\n",
       "      <td>1</td>\n",
       "      <td>1</td>\n",
       "      <td>0</td>\n",
       "      <td>Female</td>\n",
       "    </tr>\n",
       "    <tr>\n",
       "      <th>3</th>\n",
       "      <td>35</td>\n",
       "      <td>1</td>\n",
       "      <td>03-Dec-09</td>\n",
       "      <td>33</td>\n",
       "      <td>3 formal</td>\n",
       "      <td>7 roman catholic</td>\n",
       "      <td>3 secondary</td>\n",
       "      <td>2 married</td>\n",
       "      <td>100.0</td>\n",
       "      <td>166.0</td>\n",
       "      <td>...</td>\n",
       "      <td>2.0</td>\n",
       "      <td>2</td>\n",
       "      <td>2.0</td>\n",
       "      <td>0</td>\n",
       "      <td>0</td>\n",
       "      <td>1</td>\n",
       "      <td>1</td>\n",
       "      <td>1</td>\n",
       "      <td>0</td>\n",
       "      <td>Female</td>\n",
       "    </tr>\n",
       "    <tr>\n",
       "      <th>4</th>\n",
       "      <td>10</td>\n",
       "      <td>2</td>\n",
       "      <td>03-Dec-09</td>\n",
       "      <td>63</td>\n",
       "      <td>4 student</td>\n",
       "      <td>8 other</td>\n",
       "      <td>2 primary</td>\n",
       "      <td>2 married</td>\n",
       "      <td>83.0</td>\n",
       "      <td>156.0</td>\n",
       "      <td>...</td>\n",
       "      <td>NaN</td>\n",
       "      <td>1</td>\n",
       "      <td>2.0</td>\n",
       "      <td>0</td>\n",
       "      <td>0</td>\n",
       "      <td>1</td>\n",
       "      <td>1</td>\n",
       "      <td>1</td>\n",
       "      <td>0</td>\n",
       "      <td>Male</td>\n",
       "    </tr>\n",
       "  </tbody>\n",
       "</table>\n",
       "<p>5 rows × 47 columns</p>\n",
       "</div>"
      ],
      "text/plain": [
       "   IdNumber  CaseStatus       Date  A1Age  A2Occupation          A3Church  \\\n",
       "0        32           2  03-Dec-09     23  1 unemployed     5 pentecostal   \n",
       "1        33           1  03-Dec-09     24     4 student       2 apostolic   \n",
       "2        34           2  03-Dec-09     24  1 unemployed       2 apostolic   \n",
       "3        35           1  03-Dec-09     33      3 formal  7 roman catholic   \n",
       "4        10           2  03-Dec-09     63     4 student           8 other   \n",
       "\n",
       "  A4LevelOfEducation A5MaritalStatus  Weight  Height  ...  Unemployed  \\\n",
       "0        3 secondary       2 married    61.0   182.0  ...         1.0   \n",
       "1        3 secondary       2 married    53.0   166.0  ...         NaN   \n",
       "2        3 secondary       2 married    91.4   166.0  ...         1.0   \n",
       "3        3 secondary       2 married   100.0   166.0  ...         2.0   \n",
       "4          2 primary       2 married    83.0   156.0  ...         NaN   \n",
       "\n",
       "   Education  AlcoholUse  SexPartner1year  SexPartner3month LastPartnerSpouse  \\\n",
       "0          2         2.0                0                 0                 1   \n",
       "1          2         1.0                0                 0                 1   \n",
       "2          2         1.0                0                 0                 1   \n",
       "3          2         2.0                0                 0                 1   \n",
       "4          1         2.0                0                 0                 1   \n",
       "\n",
       "  Belong  ReceiveHelp  SexPartnerLife3   Sex.1  \n",
       "0      1            1                0  Female  \n",
       "1      0            0                0  Female  \n",
       "2      1            1                0  Female  \n",
       "3      1            1                0  Female  \n",
       "4      1            1                0    Male  \n",
       "\n",
       "[5 rows x 47 columns]"
      ]
     },
     "execution_count": 9,
     "metadata": {},
     "output_type": "execute_result"
    }
   ],
   "source": [
    "Data.head(5)"
   ]
  },
  {
   "cell_type": "code",
   "execution_count": 10,
   "metadata": {},
   "outputs": [
    {
     "name": "stdout",
     "output_type": "stream",
     "text": [
      "int64\n"
     ]
    },
    {
     "data": {
      "text/plain": [
       "IdNumber                  int64\n",
       "CaseStatus                int64\n",
       "Date                     object\n",
       "A1Age                     int64\n",
       "A2Occupation             object\n",
       "A3Church                 object\n",
       "A4LevelOfEducation       object\n",
       "A5MaritalStatus          object\n",
       "Weight                  float64\n",
       "Height                  float64\n",
       "C3StiYesno              float64\n",
       "D1BurialSociety           int64\n",
       "D1religiousgrp            int64\n",
       "D1savingsClub           float64\n",
       "D1tradersAssoc            int64\n",
       "D2Group1                 object\n",
       "D2Group2                 object\n",
       "D3Education             float64\n",
       "D3FuneralAssistance     float64\n",
       "D3HealthServices        float64\n",
       "DurationOfillness       float64\n",
       "E8WhyhaveSTI             object\n",
       "N10givereceiveforsex     object\n",
       "N11Usedcondom            object\n",
       "N12UseCondom             object\n",
       "N13TakenAlcohol          object\n",
       "N14DoYouHave              int64\n",
       "N15LivingTogether       float64\n",
       "N16HowOldIs             float64\n",
       "D3receivecredit         float64\n",
       "Typeofsti                object\n",
       "N2SexDebut              float64\n",
       "N3HadAnSti              float64\n",
       "N9Relationship           object\n",
       "Sex                      object\n",
       "AgeFirstSex              object\n",
       "HabitationStatus          int64\n",
       "Unemployed              float64\n",
       "Education                 int64\n",
       "AlcoholUse              float64\n",
       "SexPartner1year           int64\n",
       "SexPartner3month          int64\n",
       "LastPartnerSpouse         int64\n",
       "Belong                    int64\n",
       "ReceiveHelp               int64\n",
       "SexPartnerLife3           int64\n",
       "Sex.1                    object\n",
       "dtype: object"
      ]
     },
     "execution_count": 10,
     "metadata": {},
     "output_type": "execute_result"
    }
   ],
   "source": [
    "print(Data['A1Age'].dtype) # Check particular variable\n",
    "\n",
    "Data.dtypes # Check all data types\n"
   ]
  },
  {
   "cell_type": "code",
   "execution_count": 11,
   "metadata": {},
   "outputs": [
    {
     "data": {
      "text/plain": [
       "(count    227.000000\n",
       " mean      28.039648\n",
       " std        7.184251\n",
       " min       16.000000\n",
       " 25%       23.000000\n",
       " 50%       26.000000\n",
       " 75%       32.000000\n",
       " max       63.000000\n",
       " Name: A1Age, dtype: float64, count    227.000000\n",
       " mean      53.751101\n",
       " std       11.684739\n",
       " min       32.800000\n",
       " 25%       45.500000\n",
       " 50%       51.000000\n",
       " 75%       60.750000\n",
       " max      100.000000\n",
       " Name: Weight, dtype: float64)"
      ]
     },
     "execution_count": 11,
     "metadata": {},
     "output_type": "execute_result"
    }
   ],
   "source": [
    "# Some descrirptive statistics\n",
    "Data['A1Age'].describe(), Data['Weight'].describe() "
   ]
  },
  {
   "cell_type": "code",
   "execution_count": 12,
   "metadata": {},
   "outputs": [
    {
     "data": {
      "text/plain": [
       "count          227\n",
       "unique           4\n",
       "top       3 formal\n",
       "freq            92\n",
       "Name: A2Occupation, dtype: object"
      ]
     },
     "execution_count": 12,
     "metadata": {},
     "output_type": "execute_result"
    }
   ],
   "source": [
    "Data['A2Occupation'].describe()"
   ]
  },
  {
   "cell_type": "code",
   "execution_count": 13,
   "metadata": {},
   "outputs": [
    {
     "name": "stdout",
     "output_type": "stream",
     "text": [
      "12201.5\n",
      "53.75110132158588\n",
      "0.7755433772600235\n",
      "0    49.0\n",
      "dtype: float64\n",
      "51.0\n",
      "11.684739163228997\n",
      "136.53312931269747\n",
      "32.8\n",
      "100.0\n",
      "1.0643460711757475\n",
      "1.5507757736749355\n",
      "227\n"
     ]
    }
   ],
   "source": [
    "print(Data['Weight'].sum()) # Sum of weight\n",
    "\n",
    "print(Data['Weight'].mean()) # Mean of weight\n",
    "\n",
    "print(Data['Weight'].sem()) # Standard error of mean of weight\n",
    "\n",
    "print(Data['Weight'].mode()) # Mode of weight\n",
    "\n",
    "print(Data['Weight'].median()) # Median of weight\n",
    "\n",
    "print(Data['Weight'].std()) # Standard deviation of weight\n",
    "\n",
    "print(Data['Weight'].var()) # Varaince of weight\n",
    "\n",
    "print(Data['Weight'].min()) # Minimum of weight\n",
    "\n",
    "print(Data['Weight'].max()) # maximum of weight\n",
    "\n",
    "print(Data['Weight'].skew()) # Skewness of weight\n",
    "\n",
    "print(Data['Weight'].kurt()) # Kurtosis of weight\n",
    "\n",
    "print(Data['Weight'].count()) # count/sample size of weight\n"
   ]
  },
  {
   "cell_type": "code",
   "execution_count": 14,
   "metadata": {},
   "outputs": [
    {
     "data": {
      "text/html": [
       "<div>\n",
       "<style scoped>\n",
       "    .dataframe tbody tr th:only-of-type {\n",
       "        vertical-align: middle;\n",
       "    }\n",
       "\n",
       "    .dataframe tbody tr th {\n",
       "        vertical-align: top;\n",
       "    }\n",
       "\n",
       "    .dataframe thead th {\n",
       "        text-align: right;\n",
       "    }\n",
       "</style>\n",
       "<table border=\"1\" class=\"dataframe\">\n",
       "  <thead>\n",
       "    <tr style=\"text-align: right;\">\n",
       "      <th></th>\n",
       "      <th>IdNumber</th>\n",
       "      <th>CaseStatus</th>\n",
       "      <th>A1Age</th>\n",
       "      <th>Weight</th>\n",
       "      <th>Height</th>\n",
       "      <th>C3StiYesno</th>\n",
       "      <th>D1BurialSociety</th>\n",
       "      <th>D1religiousgrp</th>\n",
       "      <th>D1savingsClub</th>\n",
       "      <th>D1tradersAssoc</th>\n",
       "      <th>...</th>\n",
       "      <th>HabitationStatus</th>\n",
       "      <th>Unemployed</th>\n",
       "      <th>Education</th>\n",
       "      <th>AlcoholUse</th>\n",
       "      <th>SexPartner1year</th>\n",
       "      <th>SexPartner3month</th>\n",
       "      <th>LastPartnerSpouse</th>\n",
       "      <th>Belong</th>\n",
       "      <th>ReceiveHelp</th>\n",
       "      <th>SexPartnerLife3</th>\n",
       "    </tr>\n",
       "    <tr>\n",
       "      <th>A4LevelOfEducation</th>\n",
       "      <th></th>\n",
       "      <th></th>\n",
       "      <th></th>\n",
       "      <th></th>\n",
       "      <th></th>\n",
       "      <th></th>\n",
       "      <th></th>\n",
       "      <th></th>\n",
       "      <th></th>\n",
       "      <th></th>\n",
       "      <th></th>\n",
       "      <th></th>\n",
       "      <th></th>\n",
       "      <th></th>\n",
       "      <th></th>\n",
       "      <th></th>\n",
       "      <th></th>\n",
       "      <th></th>\n",
       "      <th></th>\n",
       "      <th></th>\n",
       "      <th></th>\n",
       "    </tr>\n",
       "  </thead>\n",
       "  <tbody>\n",
       "    <tr>\n",
       "      <th>1 none</th>\n",
       "      <td>149.000000</td>\n",
       "      <td>1.000000</td>\n",
       "      <td>39.000000</td>\n",
       "      <td>74.000000</td>\n",
       "      <td>167.000000</td>\n",
       "      <td>0.000000</td>\n",
       "      <td>2.000000</td>\n",
       "      <td>2.000000</td>\n",
       "      <td>2.000000</td>\n",
       "      <td>2.000000</td>\n",
       "      <td>...</td>\n",
       "      <td>1.000000</td>\n",
       "      <td>2.000000</td>\n",
       "      <td>1.0</td>\n",
       "      <td>1.000000</td>\n",
       "      <td>1.000000</td>\n",
       "      <td>0.000000</td>\n",
       "      <td>1.000000</td>\n",
       "      <td>0.000000</td>\n",
       "      <td>1.000000</td>\n",
       "      <td>1.000000</td>\n",
       "    </tr>\n",
       "    <tr>\n",
       "      <th>2 primary</th>\n",
       "      <td>117.538462</td>\n",
       "      <td>1.461538</td>\n",
       "      <td>35.653846</td>\n",
       "      <td>53.153846</td>\n",
       "      <td>161.423077</td>\n",
       "      <td>0.100000</td>\n",
       "      <td>1.653846</td>\n",
       "      <td>1.730769</td>\n",
       "      <td>1.807692</td>\n",
       "      <td>2.000000</td>\n",
       "      <td>...</td>\n",
       "      <td>1.307692</td>\n",
       "      <td>1.560000</td>\n",
       "      <td>1.0</td>\n",
       "      <td>1.730769</td>\n",
       "      <td>0.076923</td>\n",
       "      <td>0.038462</td>\n",
       "      <td>0.769231</td>\n",
       "      <td>0.500000</td>\n",
       "      <td>0.538462</td>\n",
       "      <td>0.500000</td>\n",
       "    </tr>\n",
       "    <tr>\n",
       "      <th>3 secondary</th>\n",
       "      <td>111.566138</td>\n",
       "      <td>1.534392</td>\n",
       "      <td>27.253968</td>\n",
       "      <td>53.693122</td>\n",
       "      <td>160.808511</td>\n",
       "      <td>0.157895</td>\n",
       "      <td>1.656085</td>\n",
       "      <td>1.407407</td>\n",
       "      <td>1.702128</td>\n",
       "      <td>1.936508</td>\n",
       "      <td>...</td>\n",
       "      <td>1.280423</td>\n",
       "      <td>1.646409</td>\n",
       "      <td>2.0</td>\n",
       "      <td>1.689840</td>\n",
       "      <td>0.238095</td>\n",
       "      <td>0.111111</td>\n",
       "      <td>0.703704</td>\n",
       "      <td>0.740741</td>\n",
       "      <td>0.714286</td>\n",
       "      <td>0.396825</td>\n",
       "    </tr>\n",
       "    <tr>\n",
       "      <th>4 tertiary</th>\n",
       "      <td>128.272727</td>\n",
       "      <td>1.363636</td>\n",
       "      <td>22.545455</td>\n",
       "      <td>54.318182</td>\n",
       "      <td>161.363636</td>\n",
       "      <td>0.222222</td>\n",
       "      <td>1.727273</td>\n",
       "      <td>1.454545</td>\n",
       "      <td>2.000000</td>\n",
       "      <td>2.000000</td>\n",
       "      <td>...</td>\n",
       "      <td>1.727273</td>\n",
       "      <td>1.833333</td>\n",
       "      <td>2.0</td>\n",
       "      <td>1.909091</td>\n",
       "      <td>0.363636</td>\n",
       "      <td>0.000000</td>\n",
       "      <td>0.272727</td>\n",
       "      <td>0.545455</td>\n",
       "      <td>0.545455</td>\n",
       "      <td>0.272727</td>\n",
       "    </tr>\n",
       "  </tbody>\n",
       "</table>\n",
       "<p>4 rows × 30 columns</p>\n",
       "</div>"
      ],
      "text/plain": [
       "                      IdNumber  CaseStatus      A1Age     Weight      Height  \\\n",
       "A4LevelOfEducation                                                             \n",
       "1 none              149.000000    1.000000  39.000000  74.000000  167.000000   \n",
       "2 primary           117.538462    1.461538  35.653846  53.153846  161.423077   \n",
       "3 secondary         111.566138    1.534392  27.253968  53.693122  160.808511   \n",
       "4 tertiary          128.272727    1.363636  22.545455  54.318182  161.363636   \n",
       "\n",
       "                    C3StiYesno  D1BurialSociety  D1religiousgrp  \\\n",
       "A4LevelOfEducation                                                \n",
       "1 none                0.000000         2.000000        2.000000   \n",
       "2 primary             0.100000         1.653846        1.730769   \n",
       "3 secondary           0.157895         1.656085        1.407407   \n",
       "4 tertiary            0.222222         1.727273        1.454545   \n",
       "\n",
       "                    D1savingsClub  D1tradersAssoc  ...  HabitationStatus  \\\n",
       "A4LevelOfEducation                                 ...                     \n",
       "1 none                   2.000000        2.000000  ...          1.000000   \n",
       "2 primary                1.807692        2.000000  ...          1.307692   \n",
       "3 secondary              1.702128        1.936508  ...          1.280423   \n",
       "4 tertiary               2.000000        2.000000  ...          1.727273   \n",
       "\n",
       "                    Unemployed  Education  AlcoholUse  SexPartner1year  \\\n",
       "A4LevelOfEducation                                                       \n",
       "1 none                2.000000        1.0    1.000000         1.000000   \n",
       "2 primary             1.560000        1.0    1.730769         0.076923   \n",
       "3 secondary           1.646409        2.0    1.689840         0.238095   \n",
       "4 tertiary            1.833333        2.0    1.909091         0.363636   \n",
       "\n",
       "                    SexPartner3month  LastPartnerSpouse    Belong  \\\n",
       "A4LevelOfEducation                                                  \n",
       "1 none                      0.000000           1.000000  0.000000   \n",
       "2 primary                   0.038462           0.769231  0.500000   \n",
       "3 secondary                 0.111111           0.703704  0.740741   \n",
       "4 tertiary                  0.000000           0.272727  0.545455   \n",
       "\n",
       "                    ReceiveHelp  SexPartnerLife3  \n",
       "A4LevelOfEducation                                \n",
       "1 none                 1.000000         1.000000  \n",
       "2 primary              0.538462         0.500000  \n",
       "3 secondary            0.714286         0.396825  \n",
       "4 tertiary             0.545455         0.272727  \n",
       "\n",
       "[4 rows x 30 columns]"
      ]
     },
     "execution_count": 14,
     "metadata": {},
     "output_type": "execute_result"
    }
   ],
   "source": [
    "# Calculate the mean of all variables by level of education\n",
    "\n",
    "Data.groupby('A4LevelOfEducation').mean()"
   ]
  },
  {
   "cell_type": "code",
   "execution_count": 15,
   "metadata": {},
   "outputs": [
    {
     "data": {
      "text/html": [
       "<div>\n",
       "<style scoped>\n",
       "    .dataframe tbody tr th:only-of-type {\n",
       "        vertical-align: middle;\n",
       "    }\n",
       "\n",
       "    .dataframe tbody tr th {\n",
       "        vertical-align: top;\n",
       "    }\n",
       "\n",
       "    .dataframe thead th {\n",
       "        text-align: right;\n",
       "    }\n",
       "</style>\n",
       "<table border=\"1\" class=\"dataframe\">\n",
       "  <thead>\n",
       "    <tr style=\"text-align: right;\">\n",
       "      <th></th>\n",
       "      <th>A1Age</th>\n",
       "    </tr>\n",
       "    <tr>\n",
       "      <th>A4LevelOfEducation</th>\n",
       "      <th></th>\n",
       "    </tr>\n",
       "  </thead>\n",
       "  <tbody>\n",
       "    <tr>\n",
       "      <th>1 none</th>\n",
       "      <td>39.000000</td>\n",
       "    </tr>\n",
       "    <tr>\n",
       "      <th>2 primary</th>\n",
       "      <td>35.653846</td>\n",
       "    </tr>\n",
       "    <tr>\n",
       "      <th>3 secondary</th>\n",
       "      <td>27.253968</td>\n",
       "    </tr>\n",
       "    <tr>\n",
       "      <th>4 tertiary</th>\n",
       "      <td>22.545455</td>\n",
       "    </tr>\n",
       "  </tbody>\n",
       "</table>\n",
       "</div>"
      ],
      "text/plain": [
       "                        A1Age\n",
       "A4LevelOfEducation           \n",
       "1 none              39.000000\n",
       "2 primary           35.653846\n",
       "3 secondary         27.253968\n",
       "4 tertiary          22.545455"
      ]
     },
     "execution_count": 15,
     "metadata": {},
     "output_type": "execute_result"
    }
   ],
   "source": [
    "# Calculate the mean of A1Age by level of education\n",
    "\n",
    "Data.groupby('A4LevelOfEducation')[['A1Age']].mean()"
   ]
  },
  {
   "cell_type": "code",
   "execution_count": 16,
   "metadata": {},
   "outputs": [
    {
     "data": {
      "text/html": [
       "<div>\n",
       "<style scoped>\n",
       "    .dataframe tbody tr th:only-of-type {\n",
       "        vertical-align: middle;\n",
       "    }\n",
       "\n",
       "    .dataframe tbody tr th {\n",
       "        vertical-align: top;\n",
       "    }\n",
       "\n",
       "    .dataframe thead th {\n",
       "        text-align: right;\n",
       "    }\n",
       "</style>\n",
       "<table border=\"1\" class=\"dataframe\">\n",
       "  <thead>\n",
       "    <tr style=\"text-align: right;\">\n",
       "      <th></th>\n",
       "      <th>min</th>\n",
       "      <th>max</th>\n",
       "      <th>sum</th>\n",
       "    </tr>\n",
       "    <tr>\n",
       "      <th>A4LevelOfEducation</th>\n",
       "      <th></th>\n",
       "      <th></th>\n",
       "      <th></th>\n",
       "    </tr>\n",
       "  </thead>\n",
       "  <tbody>\n",
       "    <tr>\n",
       "      <th>1 none</th>\n",
       "      <td>39</td>\n",
       "      <td>39</td>\n",
       "      <td>39</td>\n",
       "    </tr>\n",
       "    <tr>\n",
       "      <th>2 primary</th>\n",
       "      <td>18</td>\n",
       "      <td>63</td>\n",
       "      <td>927</td>\n",
       "    </tr>\n",
       "    <tr>\n",
       "      <th>3 secondary</th>\n",
       "      <td>16</td>\n",
       "      <td>50</td>\n",
       "      <td>5151</td>\n",
       "    </tr>\n",
       "    <tr>\n",
       "      <th>4 tertiary</th>\n",
       "      <td>19</td>\n",
       "      <td>27</td>\n",
       "      <td>248</td>\n",
       "    </tr>\n",
       "  </tbody>\n",
       "</table>\n",
       "</div>"
      ],
      "text/plain": [
       "                    min  max   sum\n",
       "A4LevelOfEducation                \n",
       "1 none               39   39    39\n",
       "2 primary            18   63   927\n",
       "3 secondary          16   50  5151\n",
       "4 tertiary           19   27   248"
      ]
     },
     "execution_count": 16,
     "metadata": {},
     "output_type": "execute_result"
    }
   ],
   "source": [
    "Data['A1Age'].groupby(Data['A4LevelOfEducation']).aggregate([min, max, sum])"
   ]
  },
  {
   "cell_type": "code",
   "execution_count": 34,
   "metadata": {},
   "outputs": [
    {
     "name": "stderr",
     "output_type": "stream",
     "text": [
      "C:\\Users\\User\\Anaconda3\\lib\\site-packages\\matplotlib\\axes\\_axes.py:6521: MatplotlibDeprecationWarning: \n",
      "The 'normed' kwarg was deprecated in Matplotlib 2.1 and will be removed in 3.1. Use 'density' instead.\n",
      "  alternative=\"'density'\", removal=\"3.1\")\n"
     ]
    },
    {
     "data": {
      "image/png": "[encoded data removed]",
      "text/plain": [
       "<Figure size 432x288 with 1 Axes>"
      ]
     },
     "metadata": {
      "needs_background": "light"
     },
     "output_type": "display_data"
    }
   ],
   "source": [
    "# Histogram\n",
    "import matplotlib.pyplot as plt\n",
    "\n",
    "plt.hist(Data['A1Age'], \n",
    "         bins = 35, \n",
    "         facecolor = \"green\",\n",
    "         normed = True)\n",
    "\n",
    "plt.title('Histogram of Age')\n",
    "\n",
    "plt.xlabel('Age')\n",
    "\n",
    "plt.ylabel('Proportion')\n",
    "\n",
    "plt.savefig('Desktop\\Histogram.png')\n",
    "\n",
    "plt.show()\n"
   ]
  },
  {
   "cell_type": "code",
   "execution_count": 35,
   "metadata": {},
   "outputs": [
    {
     "data": {
      "image/png": "[encoded data removed]",
      "text/plain": [
       "<Figure size 432x288 with 1 Axes>"
      ]
     },
     "metadata": {
      "needs_background": "light"
     },
     "output_type": "display_data"
    }
   ],
   "source": [
    "import matplotlib.pyplot as plt\n",
    "\n",
    "import numpy as np\n",
    "\n",
    "x = np.linspace(0, 10, 100)\n",
    "\n",
    "plt.figure() # Storing the plot in an object called 'fig'\n",
    "\n",
    "plt.plot(x, np.sin(x),\n",
    "        label = 'sin(x)') # The label is for legend, it is optinal \n",
    "\n",
    "plt.plot(x, np.cos(x),\n",
    "        label = 'cos(x)') # The label is for legend, it is optinal \n",
    "\n",
    "plt.title('Sine and Cosnine Curves')\n",
    "\n",
    "plt.xlabel('x')\n",
    "\n",
    "plt.ylabel('$ f(x) $')  # use lateX style formating for f(x)\n",
    "\n",
    "plt.legend()\n",
    "\n",
    "plt.savefig('Desktop\\Sine and Cosine Curves.png') # Exporting the plot \n",
    "\n",
    "plt.show()"
   ]
  },
  {
   "cell_type": "code",
   "execution_count": 43,
   "metadata": {},
   "outputs": [
    {
     "data": {
      "image/png": "[encoded data removed]",
      "text/plain": [
       "<Figure size 432x288 with 1 Axes>"
      ]
     },
     "metadata": {
      "needs_background": "light"
     },
     "output_type": "display_data"
    }
   ],
   "source": [
    "# Histogram\n",
    "import matplotlib.pyplot as plt\n",
    "\n",
    "plt.boxplot(Data['A1Age'])\n",
    "    \n",
    "plt.title('Boxplot of Age')\n",
    "\n",
    "plt.ylabel('Age')\n",
    "\n",
    "plt.savefig('Desktop\\Boxplot.png')\n",
    "\n",
    "plt.show()"
   ]
  },
  {
   "cell_type": "code",
   "execution_count": 37,
   "metadata": {},
   "outputs": [
    {
     "data": {
      "image/png": "[encoded data removed]",
      "text/plain": [
       "<Figure size 432x288 with 1 Axes>"
      ]
     },
     "metadata": {
      "needs_background": "light"
     },
     "output_type": "display_data"
    }
   ],
   "source": [
    "# Scatter plot\n",
    "import matplotlib.pyplot as plt\n",
    "\n",
    "fig = plt.figure() # This is optional\n",
    "\n",
    "plt.scatter(Data['Weight'], Data['Height'],\n",
    "            color = \"red\")\n",
    "\n",
    "plt.xlim(25, 105) # This is optional\n",
    "\n",
    "plt.ylim(135, 195) # This is optional\n",
    "\n",
    "plt.xlabel('Height') # This is optional\n",
    "\n",
    "plt.ylabel('Weight') # This is optional\n",
    "\n",
    "plt.title('Scatter Plot of Weight vs Height')\n",
    "\n",
    "plt.grid(True) # This is optional, will show gridlines\n",
    "\n",
    "fig.savefig('Desktop\\Scatter Plot of Weight vs Height_1.png') # This is optional\n",
    "\n",
    "plt.show()"
   ]
  },
  {
   "cell_type": "code",
   "execution_count": 38,
   "metadata": {},
   "outputs": [
    {
     "data": {
      "image/png": "[encoded data removed]",
      "text/plain": [
       "<Figure size 432x288 with 1 Axes>"
      ]
     },
     "metadata": {
      "needs_background": "light"
     },
     "output_type": "display_data"
    }
   ],
   "source": [
    "# Scatter plot\n",
    "import matplotlib.pyplot as plt\n",
    "\n",
    "fig = plt.figure() # This is optional\n",
    "\n",
    "plt.scatter(Data['Weight'], Data['Height'],\n",
    "            color = \"red\")\n",
    "\n",
    "plt.xlim(25, 105) # This is optional\n",
    "\n",
    "plt.ylim(135, 195) # This is optional\n",
    "\n",
    "plt.xlabel('Height') # This is optional\n",
    "\n",
    "plt.ylabel('Weight') # This is optional\n",
    "\n",
    "plt.title('Scatter Plot of Weight vs Height')\n",
    "\n",
    "plt.grid(False) # This is optional, will show gridlines\n",
    "\n",
    "fig.savefig('Desktop\\Scatter Plot of Weight vs Height_2.png') # This is optional\n",
    "\n",
    "plt.show()"
   ]
  },
  {
   "cell_type": "code",
   "execution_count": 39,
   "metadata": {},
   "outputs": [
    {
     "data": {
      "image/png": "[encoded data removed]",
      "text/plain": [
       "<Figure size 432x288 with 1 Axes>"
      ]
     },
     "metadata": {
      "needs_background": "light"
     },
     "output_type": "display_data"
    }
   ],
   "source": [
    "# Density plot\n",
    "import seaborn as sns\n",
    "\n",
    "plt.figure()\n",
    "\n",
    "sns.kdeplot(Data.A1Age[Data.Sex=='Male'], label='Men', shade=True)\n",
    "\n",
    "sns.kdeplot(Data.A1Age[Data.Sex=='Female'], label='Momen', shade=True)\n",
    "\n",
    "plt.title('Desity plot of Age by Sex')\n",
    "\n",
    "plt.xlabel('Age')\n",
    "\n",
    "plt.savefig('Desktop\\Density Plot of Age by Gender.png')\n",
    "\n",
    "plt.show()"
   ]
  },
  {
   "cell_type": "code",
   "execution_count": 29,
   "metadata": {},
   "outputs": [
    {
     "data": {
      "text/plain": [
       "<Figure size 432x288 with 0 Axes>"
      ]
     },
     "metadata": {},
     "output_type": "display_data"
    },
    {
     "data": {
      "text/plain": [
       "<Figure size 432x288 with 0 Axes>"
      ]
     },
     "metadata": {},
     "output_type": "display_data"
    }
   ],
   "source": [
    "# Bar plot\n",
    "import matplotlib.pyplot as plt\n",
    "\n",
    "plt.figure() # This is optional\n",
    "\n",
    "plt.show()\n",
    "\n",
    "plt.savefig('Desktop\\Scatter Plot of Weight vs Height_2.png') # This is optional"
   ]
  },
  {
   "cell_type": "markdown",
   "metadata": {},
   "source": [
    "1) Regression Analyses"
   ]
  },
  {
   "cell_type": "code",
   "execution_count": 30,
   "metadata": {},
   "outputs": [
    {
     "ename": "NameError",
     "evalue": "name 'data' is not defined",
     "output_type": "error",
     "traceback": [
      "\u001b[1;31m---------------------------------------------------------------------------\u001b[0m",
      "\u001b[1;31mNameError\u001b[0m                                 Traceback (most recent call last)",
      "\u001b[1;32m<ipython-input-30-8c2b36cff611>\u001b[0m in \u001b[0;36m<module>\u001b[1;34m\u001b[0m\n\u001b[0;32m      2\u001b[0m \u001b[1;32mimport\u001b[0m \u001b[0mpandas\u001b[0m \u001b[1;32mas\u001b[0m \u001b[0mpd\u001b[0m\u001b[1;33m\u001b[0m\u001b[1;33m\u001b[0m\u001b[0m\n\u001b[0;32m      3\u001b[0m \u001b[1;33m\u001b[0m\u001b[0m\n\u001b[1;32m----> 4\u001b[1;33m \u001b[0mOLS\u001b[0m \u001b[1;33m=\u001b[0m \u001b[0msm\u001b[0m\u001b[1;33m.\u001b[0m\u001b[0mOLS\u001b[0m\u001b[1;33m(\u001b[0m\u001b[0mdata\u001b[0m\u001b[1;33m.\u001b[0m\u001b[0mendog\u001b[0m\u001b[1;33m,\u001b[0m \u001b[0msm\u001b[0m\u001b[1;33m.\u001b[0m\u001b[0madd_constant\u001b[0m\u001b[1;33m(\u001b[0m\u001b[0mdata\u001b[0m\u001b[1;33m.\u001b[0m\u001b[0mexog\u001b[0m\u001b[1;33m)\u001b[0m\u001b[1;33m)\u001b[0m\u001b[1;33m\u001b[0m\u001b[1;33m\u001b[0m\u001b[0m\n\u001b[0m\u001b[0;32m      5\u001b[0m \u001b[1;33m\u001b[0m\u001b[0m\n\u001b[0;32m      6\u001b[0m \u001b[1;33m\u001b[0m\u001b[0m\n",
      "\u001b[1;31mNameError\u001b[0m: name 'data' is not defined"
     ]
    }
   ],
   "source": [
    "import statsmodels.api as sm \n",
    "import pandas as pd\n",
    "\n",
    "OLS = sm.OLS(data.endog, sm.add_constant(data.exog))\n",
    "\n",
    "\n"
   ]
  },
  {
   "cell_type": "markdown",
   "metadata": {},
   "source": [
    "2) Regression Analyses"
   ]
  },
  {
   "cell_type": "code",
   "execution_count": null,
   "metadata": {},
   "outputs": [],
   "source": [
    "import statsmodels.api as sm\n",
    "\n",
    "data = sm.datasets.statecrime.load_pandas()\n",
    "\n",
    "print(data.endog_name)\n",
    "\n",
    "print(data.exog_name)\n"
   ]
  },
  {
   "cell_type": "code",
   "execution_count": 31,
   "metadata": {},
   "outputs": [
    {
     "ename": "NameError",
     "evalue": "name 'data' is not defined",
     "output_type": "error",
     "traceback": [
      "\u001b[1;31m---------------------------------------------------------------------------\u001b[0m",
      "\u001b[1;31mNameError\u001b[0m                                 Traceback (most recent call last)",
      "\u001b[1;32m<ipython-input-31-8dfb92a7ca36>\u001b[0m in \u001b[0;36m<module>\u001b[1;34m\u001b[0m\n\u001b[1;32m----> 1\u001b[1;33m \u001b[0mmod\u001b[0m \u001b[1;33m=\u001b[0m \u001b[0msm\u001b[0m\u001b[1;33m.\u001b[0m\u001b[0mOLS\u001b[0m\u001b[1;33m(\u001b[0m\u001b[0mdata\u001b[0m\u001b[1;33m.\u001b[0m\u001b[0mendog\u001b[0m\u001b[1;33m,\u001b[0m \u001b[0msm\u001b[0m\u001b[1;33m.\u001b[0m\u001b[0madd_constant\u001b[0m\u001b[1;33m(\u001b[0m\u001b[0mdata\u001b[0m\u001b[1;33m.\u001b[0m\u001b[0mexog\u001b[0m\u001b[1;33m)\u001b[0m\u001b[1;33m)\u001b[0m\u001b[1;33m\u001b[0m\u001b[1;33m\u001b[0m\u001b[0m\n\u001b[0m\u001b[0;32m      2\u001b[0m \u001b[0mres\u001b[0m \u001b[1;33m=\u001b[0m \u001b[0mmod\u001b[0m\u001b[1;33m.\u001b[0m\u001b[0mfit\u001b[0m\u001b[1;33m(\u001b[0m\u001b[1;33m)\u001b[0m\u001b[1;33m\u001b[0m\u001b[1;33m\u001b[0m\u001b[0m\n\u001b[0;32m      3\u001b[0m \u001b[0mprint\u001b[0m\u001b[1;33m(\u001b[0m\u001b[0mres\u001b[0m\u001b[1;33m.\u001b[0m\u001b[0msummary\u001b[0m\u001b[1;33m(\u001b[0m\u001b[1;33m)\u001b[0m\u001b[1;33m)\u001b[0m\u001b[1;33m\u001b[0m\u001b[1;33m\u001b[0m\u001b[0m\n",
      "\u001b[1;31mNameError\u001b[0m: name 'data' is not defined"
     ]
    }
   ],
   "source": [
    "mod = sm.OLS(data.endog, sm.add_constant(data.exog))\n",
    "res = mod.fit()\n",
    "print(res.summary())"
   ]
  },
  {
   "cell_type": "code",
   "execution_count": null,
   "metadata": {},
   "outputs": [],
   "source": []
  },
  {
   "cell_type": "code",
   "execution_count": null,
   "metadata": {},
   "outputs": [],
   "source": []
  }
 ],
 "metadata": {
  "kernelspec": {
   "display_name": "Python 3",
   "language": "python",
   "name": "python3"
  },
  "language_info": {
   "codemirror_mode": {
    "name": "ipython",
    "version": 3
   },
   "file_extension": ".py",
   "mimetype": "text/x-python",
   "name": "python",
   "nbconvert_exporter": "python",
   "pygments_lexer": "ipython3",
   "version": "3.7.3"
  }
 },
 "nbformat": 4,
 "nbformat_minor": 2
}
